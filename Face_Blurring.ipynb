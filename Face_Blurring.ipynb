{
 "cells": [
  {
   "cell_type": "code",
   "execution_count": 1,
   "metadata": {},
   "outputs": [],
   "source": [
    "\n",
    "import cv2\n",
    "\n",
    "cascade = cv2.CascadeClassifier('haarcascade_frontalface_default.xml')"
   ]
  },
  {
   "cell_type": "code",
   "execution_count": 2,
   "metadata": {},
   "outputs": [],
   "source": [
    "\n",
    "def find_and_blur(bw, color): \n",
    "    # detect al faces\n",
    "    faces = cascade.detectMultiScale(bw, 1.1, 4)\n",
    "    # get the locations of the faces\n",
    "    for (x, y, w, h) in faces:\n",
    "        # select the areas where the face was found\n",
    "        roi_color = color[y:y+h, x:x+w]\n",
    "        # blur the colored image\n",
    "        blur = cv2.GaussianBlur(roi_color, (101,101), 0)        \n",
    "        # Insert ROI back into image\n",
    "        color[y:y+h, x:x+w] = blur            \n",
    "    \n",
    "    # return the blurred image\n",
    "    return color"
   ]
  },
  {
   "cell_type": "code",
   "execution_count": 7,
   "metadata": {},
   "outputs": [],
   "source": [
    "video_capture = cv2.VideoCapture(0)\n",
    "\n",
    "while True:\n",
    "    # get last recorded frame\n",
    "    _, color = video_capture.read()\n",
    "    # transform color -> grayscale\n",
    "    bw = cv2.cvtColor(color, cv2.COLOR_BGR2GRAY)\n",
    "    # detect the face and blur it\n",
    "    blur = find_and_blur(bw, color)\n",
    "    # display output\n",
    "    cv2.imshow('Video', blur)\n",
    "    # break if q is pressed\n",
    "    if cv2.waitKey(1) & 0xFF == ord('q'):\n",
    "        break\n",
    "        \n",
    "# turn camera off        \n",
    "video_capture.release()\n",
    "# close camera  window\n",
    "cv2.destroyAllWindows()"
   ]
  },
  {
   "cell_type": "code",
   "execution_count": null,
   "metadata": {},
   "outputs": [],
   "source": []
  }
 ],
 "metadata": {
  "kernelspec": {
   "display_name": "Python 3",
   "language": "python",
   "name": "python3"
  },
  "language_info": {
   "codemirror_mode": {
    "name": "ipython",
    "version": 3
   },
   "file_extension": ".py",
   "mimetype": "text/x-python",
   "name": "python",
   "nbconvert_exporter": "python",
   "pygments_lexer": "ipython3",
   "version": "3.7.7"
  }
 },
 "nbformat": 4,
 "nbformat_minor": 4
}
